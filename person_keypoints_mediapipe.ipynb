{
 "cells": [
  {
   "cell_type": "markdown",
   "id": "100835b2-72d9-4ebe-94a0-3cbbe6469a0d",
   "metadata": {},
   "source": [
    "# Imports to use COCO dataset"
   ]
  },
  {
   "cell_type": "code",
   "execution_count": 1,
   "id": "5bc0bfa3-88b6-4d41-b4e6-950a5a21515a",
   "metadata": {},
   "outputs": [],
   "source": [
    "import matplotlib.pyplot as plt\n",
    "from pycocotools.coco import COCO\n",
    "import skimage.io as io\n",
    "import math\n",
    "import random"
   ]
  },
  {
   "cell_type": "markdown",
   "id": "2f370a21-d964-4e5c-91d6-77330fb10602",
   "metadata": {},
   "source": [
    "# Imports to use MediaPipe"
   ]
  },
  {
   "cell_type": "code",
   "execution_count": 2,
   "id": "deddd0f1-cdab-4d11-bd74-4465c5295547",
   "metadata": {},
   "outputs": [],
   "source": [
    "import scipy.io\n",
    "import os\n",
    "import mediapipe as mp\n",
    "import cv2\n",
    "from mediapipe import solutions\n",
    "from mediapipe.framework.formats import landmark_pb2\n",
    "from mediapipe.tasks import python\n",
    "from mediapipe.tasks.python import vision\n",
    "import shutil\n",
    "import time"
   ]
  },
  {
   "cell_type": "markdown",
   "id": "76922596-9bb9-4263-9f49-ff8db9c88a57",
   "metadata": {},
   "source": [
    "# Other imports"
   ]
  },
  {
   "cell_type": "code",
   "execution_count": 3,
   "id": "db20e3b9-832b-423f-a8cc-de7178aa30a4",
   "metadata": {},
   "outputs": [],
   "source": [
    "import numpy as np\n",
    "import pandas as pd\n",
    "import requests"
   ]
  },
  {
   "cell_type": "markdown",
   "id": "ba6fe4dc-076f-4828-9163-f6658c3ec671",
   "metadata": {},
   "source": [
    "# Load annotations from COCO dataset"
   ]
  },
  {
   "cell_type": "code",
   "execution_count": 4,
   "id": "ac8de6de-f777-4deb-a9a5-ed29edc4fb16",
   "metadata": {},
   "outputs": [
    {
     "name": "stdout",
     "output_type": "stream",
     "text": [
      "loading annotations into memory...\n",
      "Done (t=0.64s)\n",
      "creating index...\n",
      "index created!\n"
     ]
    }
   ],
   "source": [
    "dataDir = './coco/'\n",
    "dataType = 'val2017'\n",
    "annFile = '{}/annotations/instances_{}.json'.format(dataDir, dataType)\n",
    "coco = COCO(annFile)"
   ]
  },
  {
   "cell_type": "markdown",
   "id": "2877d642-2882-4e98-8973-bf61326580b6",
   "metadata": {},
   "source": [
    "# Get diferrent categories"
   ]
  },
  {
   "cell_type": "code",
   "execution_count": 18,
   "id": "e456957a-273b-4d98-9782-698b0913b2de",
   "metadata": {},
   "outputs": [
    {
     "name": "stdout",
     "output_type": "stream",
     "text": [
      "\n",
      "\n",
      "{'license': 4, 'file_name': '000000190007.jpg', 'coco_url': 'http://images.cocodataset.org/val2017/000000190007.jpg', 'height': 381, 'width': 640, 'date_captured': '2013-11-20 16:45:47', 'flickr_url': 'http://farm8.staticflickr.com/7059/6877678857_85d6a6041a_z.jpg', 'id': 190007, 'annotations': [{'segmentation': [[288.3, 242.72, 284.39, 248.88, 282.43, 253.07, 282.43, 255.31, 283.83, 257.55, 286.63, 257.55, 293.9, 258.39, 303.69, 260.35, 310.69, 262.03, 342.59, 272.38, 350.42, 269.3, 350.14, 265.95, 345.38, 260.35, 339.23, 254.47, 318.52, 248.32, 303.97, 245.24]], 'area': 983.8673499999998, 'iscrowd': 0, 'image_id': 190007, 'bbox': [282.43, 242.72, 67.99, 29.66], 'category_id': 42, 'id': 651195}]}\n"
     ]
    }
   ],
   "source": [
    "ten_images = []\n",
    "################################################################################################################\n",
    "# FRISBEE CATEGORY\n",
    "catIds_frisbee = coco.getCatIds(catNms=['frisbee'])\n",
    "imgIds_frisbee = coco.getImgIds(catIds=catIds_frisbee)[:15]\n",
    "\n",
    "for img_id_frisbee in imgIds_frisbee:\n",
    "    img_info_frisbee = coco.loadImgs(img_id_frisbee)[0]\n",
    "\n",
    "\n",
    "four_image_frisbee = coco.loadImgs(imgIds_frisbee[3])[0]\n",
    "ten_images.append(four_image_frisbee)\n",
    "\n",
    "nine_image_frisbee = coco.loadImgs(imgIds_frisbee[8])[0]\n",
    "ten_images.append(nine_image_frisbee)\n",
    "\n",
    "eleven_image_frisbee = coco.loadImgs(imgIds_frisbee[10])[0]\n",
    "ten_images.append(eleven_image_frisbee)\n",
    "\n",
    "fifteen_image_frisbee = coco.loadImgs(imgIds_frisbee[14])[0]\n",
    "ten_images.append(fifteen_image_frisbee)\n",
    "\n",
    "\n",
    "# GET FRISBEE ANNOTATIONS\n",
    "FRISBEE_CATEGORY = [four_image_frisbee, nine_image_frisbee, eleven_image_frisbee, fifteen_image_frisbee ]\n",
    "\n",
    "for img_info_frisbee in FRISBEE_CATEGORY:\n",
    "    img_id_frisbee = img_info_frisbee['id']\n",
    "    #print(\"img_id_frisbee\", img_id_frisbee)\n",
    "    annIds = coco.getAnnIds(imgIds=img_id_frisbee, catIds=catIds_frisbee, iscrowd=None)\n",
    "    anns = coco.loadAnns(annIds)\n",
    "    # Add annotations to img_info_frisbee\n",
    "    img_info_frisbee['annotations'] = anns\n",
    "    #print(img_info_frisbee)\n",
    "##################################################################################################################\n",
    "print()\n",
    "\n",
    "# SNOWBOARD CATEGORY\n",
    "catIds_snowboard = coco.getCatIds(catNms=['snowboard'])\n",
    "imgIds_snowboard = coco.getImgIds(catIds=catIds_snowboard)[:15]\n",
    "\n",
    "for img_id_snowboard in imgIds_snowboard:\n",
    "    img_info_snowboard = coco.loadImgs(img_id_snowboard)[0]\n",
    "\n",
    "\n",
    "one_image_snowboard = coco.loadImgs(imgIds_snowboard[0])[0]\n",
    "ten_images.append(one_image_snowboard)\n",
    "\n",
    "ten_image_snowboard = coco.loadImgs(imgIds_snowboard[9])[0]\n",
    "ten_images.append(ten_image_snowboard)\n",
    "\n",
    "fourteen_image_snowboard = coco.loadImgs(imgIds_snowboard[13])[0]\n",
    "ten_images.append(fourteen_image_snowboard)\n",
    "\n",
    "\n",
    "# GET SNOWBOARD ANNOTATIONS \n",
    "SNOWBOARD_CATEGORY = [one_image_snowboard, ten_image_snowboard, fourteen_image_snowboard ]\n",
    "\n",
    "\n",
    "for img_info_snowboard in SNOWBOARD_CATEGORY:\n",
    "    img_id_snowboard = img_info_snowboard['id']\n",
    "    #print(\"img_id_snowboard\", img_id_snowboard)\n",
    "    annIds = coco.getAnnIds(imgIds=img_id_snowboard, catIds=catIds_snowboard, iscrowd=None)\n",
    "    anns = coco.loadAnns(annIds)\n",
    "    # Add annotations to img_info_snowboard\n",
    "    img_info_snowboard['annotations'] = anns\n",
    "###############################################################################################################\n",
    "\n",
    "print()\n",
    "\n",
    "# SKATEBOARD CATEGORY\n",
    "catIds_skateboard = coco.getCatIds(catNms=['skateboard'])\n",
    "imgIds_skateboard = coco.getImgIds(catIds=catIds_skateboard)[:10]\n",
    "\n",
    "for img_id_skateboard in imgIds_skateboard:\n",
    "    img_info_skateboard = coco.loadImgs(img_id_skateboard)[0]\n",
    "    \n",
    "\n",
    "five_image_skateboard = coco.loadImgs(imgIds_skateboard[4])[0]\n",
    "ten_images.append(five_image_skateboard)\n",
    "\n",
    "ten_image_skateboard = coco.loadImgs(imgIds_skateboard[9])[0]\n",
    "ten_images.append(ten_image_skateboard)\n",
    "\n",
    "\n",
    "# GET SKATEBOARD ANNOTATIONS \n",
    "SKATEBOARD_CATEGORY = [five_image_skateboard, ten_image_skateboard ]\n",
    "\n",
    "\n",
    "for img_info_skateboard in SKATEBOARD_CATEGORY:\n",
    "    img_id_skateboard = img_info_skateboard['id']\n",
    "    #print(\"img_id_skateboard\", img_id_skateboard)\n",
    "    annIds = coco.getAnnIds(imgIds=img_id_skateboard, catIds=catIds_skateboard, iscrowd=None)\n",
    "    anns = coco.loadAnns(annIds)\n",
    "    # Add annotations to img_info_skateboard\n",
    "    img_info_skateboard['annotations'] = anns\n",
    "\n",
    "###############################################################################################################\n",
    "# SURFBOARD CATEGORY\n",
    "catIds_surfboard = coco.getCatIds(catNms=['surfboard'])\n",
    "imgIds_surfboard = coco.getImgIds(catIds=catIds_surfboard)[:15]\n",
    "\n",
    "for img_id_surfboard in imgIds_surfboard:\n",
    "    img_info = coco.loadImgs(img_id_surfboard)[0]\n",
    "\n",
    "fifteen_image_surfboard = coco.loadImgs(imgIds_surfboard[14])[0]\n",
    "ten_images.append(fifteen_image_surfboard)\n",
    "\n",
    "\n",
    "# GET SURFBOARD ANNOTATIONS \n",
    "SURFBOARD_CATEGORY = [fifteen_image_surfboard ]\n",
    "\n",
    "\n",
    "for img_info_surfboard in SURFBOARD_CATEGORY:\n",
    "    img_id_surfboard = img_info_surfboard['id']\n",
    "    #print(\"img_id_surfboard\", img_id_surfboard)\n",
    "    annIds = coco.getAnnIds(imgIds=img_id_surfboard, catIds=catIds_surfboard, iscrowd=None)\n",
    "    anns = coco.loadAnns(annIds)\n",
    "    # Add annotations to img_info_surfboard\n",
    "    img_info_surfboard['annotations'] = anns\n",
    "\n",
    "#################################################################################################################\n"
   ]
  },
  {
   "cell_type": "markdown",
   "id": "d3692e96-9a25-49a9-8b88-154b673348a5",
   "metadata": {},
   "source": [
    "# Store 10 images inside 'extracted_images_from_coco'"
   ]
  },
  {
   "cell_type": "code",
   "execution_count": 6,
   "id": "f9b662ca-a9e1-49a2-bfa8-a28f084a22eb",
   "metadata": {},
   "outputs": [],
   "source": [
    "true_keypoints_list = []\n",
    "\n",
    "output_folder= \"./extracted_images_from_coco\"\n",
    "\n",
    "if not os.path.exists(output_folder):\n",
    "    os.makedirs(output_folder)\n",
    "\n",
    "for i, image_info in enumerate(ten_images):\n",
    "    img_url = image_info['coco_url']\n",
    "\n",
    "    I = io.imread(img_url)\n",
    "    filename = f\"image_{i}.jpg\"\n",
    "    output_path = os.path.join(output_folder, filename)\n",
    "    io.imsave(output_path, I)"
   ]
  },
  {
   "cell_type": "markdown",
   "id": "d51ba8d9-4223-4a2d-a0f3-738a872403d5",
   "metadata": {},
   "source": [
    "# Model MediaPipe"
   ]
  },
  {
   "cell_type": "code",
   "execution_count": 11,
   "id": "e6ed5c5c-40ef-4416-ac18-e57686fd41d4",
   "metadata": {},
   "outputs": [],
   "source": [
    "media_pipe_images_dir = \"./media_pipe_images_dir\"\n",
    "\n",
    "if not os.path.exists(media_pipe_images_dir):\n",
    "    os.makedirs(media_pipe_images_dir)\n",
    "\n",
    "def detect_pose(image_path):\n",
    "    mp_pose = mp.solutions.pose\n",
    "    pose = mp_pose.Pose(static_image_mode=True, min_detection_confidence=0.5)\n",
    "    \n",
    "    image = cv2.imread(image_path)\n",
    "    image_rgb = cv2.cvtColor(image, cv2.COLOR_BGR2RGB)\n",
    "\n",
    "# CALCULATE INFERENCE TIME\n",
    "    \n",
    "    start_time_mp = time.time()\n",
    "    \n",
    "    results = pose.process(image_rgb)\n",
    "\n",
    "    end_time_mp = time.time()\n",
    "\n",
    "    processing_time_mp = end_time_mp - start_time_mp\n",
    "    #print(f\"Processing time for {os.path.basename(image_path)}: {processing_time_mp} seconds \")\n",
    "    \n",
    "\n",
    "# GET PREDICTED COORDENATES:\n",
    "    predicted_keypoints = []\n",
    "    if results.pose_landmarks:\n",
    "        for landmark in results.pose_landmarks.landmark:\n",
    "            predicted_keypoints.append((landmark.x, landmark.y))\n",
    "   \n",
    "    pose.close()\n",
    "    return predicted_keypoints, processing_time_mp\n",
    "\n",
    "predicted_keypoints_list_mp = []\n",
    "total_processing_time_mp = 0\n",
    "total_images_mp = 0\n",
    "\n",
    "\n",
    "files = filter(lambda file:file.endswith('.jpg'), os.listdir(output_folder))\n",
    "for file in files:\n",
    "    image_file = os.path.join(output_folder, file)\n",
    "    predicted_keypoints, processing_time_mp = detect_pose(image_file)\n",
    "    if predicted_keypoints:\n",
    "        total_processing_time_mp += processing_time_mp\n",
    "        total_images_mp += 1\n",
    "        predicted_keypoints_list_mp.append(predicted_keypoints)\n",
    "\n",
    "# CALCULATE THE AVERAGE INFERENCE TIME\n",
    "\n",
    "if total_images_mp > 0:\n",
    "    average_processing_time_mp = total_processing_time_mp / total_images_mp\n",
    "else:\n",
    "    pass\n",
    "\n",
    "# CALCULATE PROCESSING SPEED\n",
    "\n",
    "processing_speed_mp = total_images_mp / total_processing_time_mp if total_processing_time_mp > 0 else 0\n",
    "\n",
    "#print(\"╔══════════════════════════════════════════════════════════════════════╗\")\n",
    "#print(\"║            Model Pose from MediaPipe with 0.5 confidence level       ║\")\n",
    "#print(\"╠══════════════════════════════════════════════════════════════════════╣\")\n",
    "#print(\"║ Total images processed                                           {:>3} ║\".format(total_images_mp))\n",
    "#print(\"║ Total inference time  (seconds)                           {:>10.3f} ║\".format(total_processing_time_mp))\n",
    "#print(\"║ Average inference time  (seconds)                         {:>10.3f} ║\".format(average_processing_time_mp))\n",
    "#print(\"║ Processing speed  ( images/seconds)                       {:>10.3f} ║\".format(processing_speed_mp))\n",
    "#print(\"╚══════════════════════════════════════════════════════════════════════╝\")\n"
   ]
  },
  {
   "cell_type": "code",
   "execution_count": null,
   "id": "6d8ec6ab-dbd9-47da-b41d-45529ec8f27f",
   "metadata": {},
   "outputs": [],
   "source": []
  }
 ],
 "metadata": {
  "kernelspec": {
   "display_name": "Python 3 (ipykernel)",
   "language": "python",
   "name": "python3"
  },
  "language_info": {
   "codemirror_mode": {
    "name": "ipython",
    "version": 3
   },
   "file_extension": ".py",
   "mimetype": "text/x-python",
   "name": "python",
   "nbconvert_exporter": "python",
   "pygments_lexer": "ipython3",
   "version": "3.11.0"
  }
 },
 "nbformat": 4,
 "nbformat_minor": 5
}
