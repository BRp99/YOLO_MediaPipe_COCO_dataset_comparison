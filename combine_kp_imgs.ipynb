{
 "cells": [
  {
   "cell_type": "code",
   "execution_count": 16,
   "id": "be274e4e-393c-49f6-a265-f1653bd0be2b",
   "metadata": {},
   "outputs": [],
   "source": [
    "import cv2\n",
    "import os"
   ]
  },
  {
   "cell_type": "code",
   "execution_count": 20,
   "id": "be290d62-9e5c-46d0-bbf3-78247de1d846",
   "metadata": {},
   "outputs": [
    {
     "name": "stdout",
     "output_type": "stream",
     "text": [
      "Concluído.\n"
     ]
    }
   ],
   "source": [
    "import cv2\n",
    "import os\n",
    "\n",
    "\n",
    "mediapipe_folder = 'mp_keypoints'\n",
    "yolo_folder = 'runs/pose/predict'\n",
    "\n",
    "\n",
    "mediapipe_files = [file for file in os.listdir(mediapipe_folder) if not file.startswith('.ipynb_checkpoints')]\n",
    "yolo_files = [file for file in os.listdir(yolo_folder) if not file.startswith('.ipynb_checkpoints')]\n",
    "\n",
    "\n",
    "mediapipe_files.sort()\n",
    "yolo_files.sort()\n",
    "\n",
    "\n",
    "combined_folder = 'combined_images'\n",
    "os.makedirs(combined_folder, exist_ok=True)\n",
    "\n",
    "\n",
    "for mp_file, yolo_file in zip(mediapipe_files, yolo_files):\n",
    "   \n",
    "    if mp_file not in yolo_files:\n",
    "        print(f\"the image {mp_file} has no keypoints detected by Mediapipe. Skipping this image.\")\n",
    "        continue\n",
    "    \n",
    "  \n",
    "    mp_image = cv2.imread(os.path.join(mediapipe_folder, mp_file))\n",
    "    yolo_image = cv2.imread(os.path.join(yolo_folder, yolo_file))\n",
    "    \n",
    "    \n",
    "    if mp_image is None or yolo_image is None:\n",
    "        print(f\"Failed to read images {mp_file} and {yolo_file}.\")\n",
    "        continue\n",
    "    \n",
    "    min_height = min(mp_image.shape[0], yolo_image.shape[0])\n",
    "    mp_image = cv2.resize(mp_image, (int(mp_image.shape[1] * min_height / mp_image.shape[0]), min_height))\n",
    "    yolo_image = cv2.resize(yolo_image, (int(yolo_image.shape[1] * min_height / yolo_image.shape[0]), min_height))\n",
    "    \n",
    "    \n",
    "    cv2.putText(mp_image, 'MediaPipe', (10, 30), cv2.FONT_HERSHEY_SIMPLEX, 1, (255, 255, 255), 2, cv2.LINE_AA)\n",
    "    cv2.putText(yolo_image, 'YOLO', (10, 30), cv2.FONT_HERSHEY_SIMPLEX, 1, (255, 255, 255), 2, cv2.LINE_AA)\n",
    "    \n",
    "    \n",
    "    combined_image = cv2.hconcat([mp_image, yolo_image])\n",
    "    \n",
    "   \n",
    "    cv2.imwrite(os.path.join(combined_folder, f'combined_{mp_file}'), combined_image)\n",
    "\n",
    "print(\"Concluded.\")\n"
   ]
  },
  {
   "cell_type": "code",
   "execution_count": null,
   "id": "dfeba529-e4c4-4ce4-80e5-3590d4fce860",
   "metadata": {},
   "outputs": [],
   "source": []
  }
 ],
 "metadata": {
  "kernelspec": {
   "display_name": "Python 3 (ipykernel)",
   "language": "python",
   "name": "python3"
  },
  "language_info": {
   "codemirror_mode": {
    "name": "ipython",
    "version": 3
   },
   "file_extension": ".py",
   "mimetype": "text/x-python",
   "name": "python",
   "nbconvert_exporter": "python",
   "pygments_lexer": "ipython3",
   "version": "3.11.0"
  }
 },
 "nbformat": 4,
 "nbformat_minor": 5
}
