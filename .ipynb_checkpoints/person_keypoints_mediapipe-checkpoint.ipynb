{
 "cells": [
  {
   "cell_type": "markdown",
   "id": "100835b2-72d9-4ebe-94a0-3cbbe6469a0d",
   "metadata": {},
   "source": [
    "# Imports to use COCO dataset"
   ]
  },
  {
   "cell_type": "code",
   "execution_count": 7,
   "id": "5bc0bfa3-88b6-4d41-b4e6-950a5a21515a",
   "metadata": {},
   "outputs": [],
   "source": [
    "import matplotlib.pyplot as plt\n",
    "from pycocotools.coco import COCO\n",
    "import skimage.io as io\n",
    "import math\n",
    "import random"
   ]
  },
  {
   "cell_type": "markdown",
   "id": "2f370a21-d964-4e5c-91d6-77330fb10602",
   "metadata": {},
   "source": [
    "# Imports to use MediaPipe"
   ]
  },
  {
   "cell_type": "code",
   "execution_count": 8,
   "id": "deddd0f1-cdab-4d11-bd74-4465c5295547",
   "metadata": {},
   "outputs": [],
   "source": [
    "import scipy.io\n",
    "import os\n",
    "import mediapipe as mp\n",
    "import cv2\n",
    "from mediapipe import solutions\n",
    "from mediapipe.framework.formats import landmark_pb2\n",
    "from mediapipe.tasks import python\n",
    "from mediapipe.tasks.python import vision\n",
    "import shutil"
   ]
  },
  {
   "cell_type": "markdown",
   "id": "76922596-9bb9-4263-9f49-ff8db9c88a57",
   "metadata": {},
   "source": [
    "# Other imports"
   ]
  },
  {
   "cell_type": "code",
   "execution_count": 9,
   "id": "db20e3b9-832b-423f-a8cc-de7178aa30a4",
   "metadata": {},
   "outputs": [],
   "source": [
    "import numpy as np\n",
    "import pandas as pd\n",
    "import requests"
   ]
  },
  {
   "cell_type": "markdown",
   "id": "ba6fe4dc-076f-4828-9163-f6658c3ec671",
   "metadata": {},
   "source": [
    "# Load annotations from COCO dataset"
   ]
  },
  {
   "cell_type": "code",
   "execution_count": 10,
   "id": "ac8de6de-f777-4deb-a9a5-ed29edc4fb16",
   "metadata": {},
   "outputs": [
    {
     "name": "stdout",
     "output_type": "stream",
     "text": [
      "loading annotations into memory...\n",
      "Done (t=0.64s)\n",
      "creating index...\n",
      "index created!\n"
     ]
    }
   ],
   "source": [
    "dataDir = './coco/'\n",
    "dataType = 'val2017'\n",
    "annFile = '{}/annotations/instances_{}.json'.format(dataDir, dataType)\n",
    "coco = COCO(annFile)"
   ]
  },
  {
   "cell_type": "markdown",
   "id": "2877d642-2882-4e98-8973-bf61326580b6",
   "metadata": {},
   "source": [
    "# Get diferrent categories"
   ]
  },
  {
   "cell_type": "code",
   "execution_count": 39,
   "id": "e456957a-273b-4d98-9782-698b0913b2de",
   "metadata": {},
   "outputs": [
    {
     "name": "stdout",
     "output_type": "stream",
     "text": [
      "{'license': 1, 'file_name': '000000259097.jpg', 'coco_url': 'http://images.cocodataset.org/val2017/000000259097.jpg', 'height': 333, 'width': 500, 'date_captured': '2013-11-18 17:30:55', 'flickr_url': 'http://farm2.staticflickr.com/1208/984353000_5b9492801f_z.jpg', 'id': 259097, 'annotations': [{'segmentation': [[210.03, 120.02, 213.22, 120.02, 216.31, 120.21, 217.62, 121.06, 217.81, 122.46, 216.97, 123.21, 215.56, 123.59, 211.91, 123.87, 207.87, 124.06, 204.31, 123.59, 203.37, 123.02, 203.47, 122.27, 203.84, 121.52, 205.06, 120.96, 206.28, 120.49, 207.97, 120.02]], 'area': 48.111700000000084, 'iscrowd': 0, 'image_id': 259097, 'bbox': [203.37, 120.02, 14.44, 4.04], 'category_id': 34, 'id': 602296}]}\n",
      "{'license': 1, 'file_name': '000000364102.jpg', 'coco_url': 'http://images.cocodataset.org/val2017/000000364102.jpg', 'height': 398, 'width': 640, 'date_captured': '2013-11-18 15:55:30', 'flickr_url': 'http://farm3.staticflickr.com/2657/4168067864_058f25c88f_z.jpg', 'id': 364102, 'annotations': [{'segmentation': [[152.17, 188.08, 136.4, 183.72, 127.46, 180.93, 119.86, 177.68, 113.93, 173.77, 113.93, 171.76, 115.05, 170.64, 117.73, 169.41, 121.98, 169.41, 125.22, 169.52, 129.92, 170.31, 136.29, 172.09, 145.79, 175.56, 154.74, 179.59, 160.66, 183.95, 162.56, 186.96, 161.33, 188.98, 153.51, 188.75, 152.05, 188.31]], 'area': 452.5023000000001, 'iscrowd': 0, 'image_id': 364102, 'bbox': [113.93, 169.41, 48.63, 19.57], 'category_id': 34, 'id': 603992}]}\n",
      "{'license': 4, 'file_name': '000000378454.jpg', 'coco_url': 'http://images.cocodataset.org/val2017/000000378454.jpg', 'height': 640, 'width': 427, 'date_captured': '2013-11-18 17:45:49', 'flickr_url': 'http://farm1.staticflickr.com/192/462809186_70b4d6ea95_z.jpg', 'id': 378454, 'annotations': [{'segmentation': [[140.68, 332.12, 147.32, 329.02, 154.18, 327.47, 164.8, 329.46, 173.88, 332.78, 177.42, 337.65, 178.97, 340.97, 180.96, 346.28, 180.07, 352.48, 176.31, 356.02, 172.11, 358.23, 166.35, 361.55, 153.51, 363.77, 141.78, 359.34, 135.81, 350.27, 134.7, 345.18, 136.47, 335.66]], 'area': 1271.3357, 'iscrowd': 0, 'image_id': 378454, 'bbox': [134.7, 327.47, 46.26, 36.3], 'category_id': 34, 'id': 603925}]}\n",
      "{'license': 1, 'file_name': '000000409198.jpg', 'coco_url': 'http://images.cocodataset.org/val2017/000000409198.jpg', 'height': 427, 'width': 640, 'date_captured': '2013-11-18 13:25:01', 'flickr_url': 'http://farm9.staticflickr.com/8442/7778115976_bd16438ec0_z.jpg', 'id': 409198, 'annotations': [{'segmentation': [[255.72, 193.23, 259.01, 202.81, 257.52, 215.09, 250.03, 229.46, 236.56, 236.95, 225.48, 239.94, 206.01, 235.75, 193.73, 221.08, 191.64, 209.7, 192.53, 198.62, 195.53, 190.53, 202.42, 182.15, 213.2, 175.56, 222.48, 174.06, 229.67, 174.06, 229.37, 177.36, 225.77, 183.95, 213.8, 181.55, 208.11, 183.65, 206.01, 185.14, 212.3, 186.04, 220.68, 187.24, 212.6, 192.93, 206.91, 195.92, 206.01, 198.92, 207.81, 200.12, 213.2, 198.32, 222.48, 196.52, 219.79, 201.31, 214.69, 205.51, 214.69, 208.8, 220.68, 209.1, 229.67, 199.82, 226.37, 210.0, 227.87, 214.19, 232.36, 207.6, 235.66, 200.42, 241.05, 198.62, 244.94, 195.62, 247.34, 194.43]], 'area': 2569.151499999999, 'iscrowd': 0, 'image_id': 409198, 'bbox': [191.64, 174.06, 67.37, 65.88], 'category_id': 34, 'id': 605262}]}\n",
      "\n",
      "\n"
     ]
    }
   ],
   "source": [
    "ten_images = []\n",
    "\n",
    "# FRISBEE CATEGORY\n",
    "catIds_frisbee = coco.getCatIds(catNms=['frisbee'])\n",
    "imgIds_frisbee = coco.getImgIds(catIds=catIds_frisbee)[:15]\n",
    "\n",
    "for img_id_frisbee in imgIds_frisbee:\n",
    "    img_info_frisbee = coco.loadImgs(img_id_frisbee)[0]\n",
    "\n",
    "\n",
    "\n",
    "four_image_frisbee = coco.loadImgs(imgIds_frisbee[3])[0]\n",
    "ten_images.append(four_image_frisbee)\n",
    "\n",
    "nine_image_frisbee = coco.loadImgs(imgIds_frisbee[8])[0]\n",
    "ten_images.append(nine_image_frisbee)\n",
    "\n",
    "eleven_image_frisbee = coco.loadImgs(imgIds_frisbee[10])[0]\n",
    "ten_images.append(eleven_image_frisbee)\n",
    "\n",
    "fifteen_image_frisbee = coco.loadImgs(imgIds_frisbee[14])[0]\n",
    "ten_images.append(fifteen_image_frisbee)\n",
    "\n",
    "#print(\"10 IMAGES\", ten_images)\n",
    "\n",
    "FRISBEE_CATEGORY = [four_image_frisbee, nine_image_frisbee, eleven_image_frisbee, fifteen_image_frisbee ]\n",
    "\n",
    "\n",
    "for img_info_frisbee in FRISBEE_CATEGORY:\n",
    "    img_id_frisbee = img_info_frisbee['id']\n",
    "    #print(\"img_id_frisbee\", img_id_frisbee)\n",
    "    annIds = coco.getAnnIds(imgIds=img_id_frisbee, catIds=catIds_frisbee, iscrowd=None)\n",
    "    anns = coco.loadAnns(annIds)\n",
    "    # Add annotations to img_info_frisbee\n",
    "    img_info_frisbee['annotations'] = anns\n",
    "    print(img_info_frisbee)\n",
    "    \n",
    "\n",
    "\n",
    "\n",
    "\n",
    "\n",
    "\n",
    "\n",
    "\n",
    "\n",
    "#################################################################################\n",
    "print()\n",
    "\n",
    "# SNOWBOARD CATEGORY\n",
    "catIds_snowboard = coco.getCatIds(catNms=['snowboard'])\n",
    "imgIds_snowboard = coco.getImgIds(catIds=catIds_snowboard)[:15]\n",
    "\n",
    "for img_id_snowboard in imgIds_snowboard:\n",
    "    img_info_snowboard = coco.loadImgs(img_id_snowboard)[0]\n",
    "    \n",
    "\n",
    "\n",
    "one_image_snowboard = coco.loadImgs(imgIds_snowboard[0])[0]\n",
    "ten_images.append(one_image_snowboard)\n",
    "\n",
    "ten_image_snowboard = coco.loadImgs(imgIds_snowboard[9])[0]\n",
    "ten_images.append(ten_image_snowboard)\n",
    "\n",
    "fourteen_image_snowboard = coco.loadImgs(imgIds_snowboard[13])[0]\n",
    "ten_images.append(fourteen_image_snowboard)\n",
    "\n",
    "print()\n",
    "\n",
    "# SKATEBOARD CATEGORY\n",
    "catIds_skateboard = coco.getCatIds(catNms=['skateboard'])\n",
    "imgIds_skateboard = coco.getImgIds(catIds=catIds_skateboard)[:10]\n",
    "\n",
    "for img_id_skateboard in imgIds_skateboard:\n",
    "    img_info_skateboard = coco.loadImgs(img_id_skateboard)[0]\n",
    "    \n",
    "\n",
    "five_image_skateboard = coco.loadImgs(imgIds_skateboard[4])[0]\n",
    "ten_images.append(five_image_skateboard)\n",
    "\n",
    "ten_image_skateboard = coco.loadImgs(imgIds_skateboard[9])[0]\n",
    "ten_images.append(ten_image_skateboard)\n",
    "\n",
    "\n",
    "# BICYCLE CATEGORY\n",
    "catIds_bicycle = coco.getCatIds(catNms=['bicycle'])\n",
    "imgIds_bicycle = coco.getImgIds(catIds=catIds_bicycle)[:22]\n",
    "\n",
    "for img_id_bicycle in imgIds_bicycle:\n",
    "    img_info = coco.loadImgs(img_id_bicycle)[0]\n",
    "\n",
    "\n",
    "twenty_one_image_bicycle = coco.loadImgs(imgIds_bicycle[20])[0]\n",
    "ten_images.append(twenty_one_image_bicycle)"
   ]
  },
  {
   "cell_type": "markdown",
   "id": "d3692e96-9a25-49a9-8b88-154b673348a5",
   "metadata": {},
   "source": [
    "# Store 10 images inside 'extracted_images_from_coco'"
   ]
  },
  {
   "cell_type": "code",
   "execution_count": 24,
   "id": "f9b662ca-a9e1-49a2-bfa8-a28f084a22eb",
   "metadata": {},
   "outputs": [
    {
     "ename": "KeyError",
     "evalue": "'coco_url'",
     "output_type": "error",
     "traceback": [
      "\u001b[1;31m---------------------------------------------------------------------------\u001b[0m",
      "\u001b[1;31mKeyError\u001b[0m                                  Traceback (most recent call last)",
      "Cell \u001b[1;32mIn[24], line 9\u001b[0m\n\u001b[0;32m      6\u001b[0m     os\u001b[38;5;241m.\u001b[39mmakedirs(output_folder)\n\u001b[0;32m      8\u001b[0m \u001b[38;5;28;01mfor\u001b[39;00m i, image_info \u001b[38;5;129;01min\u001b[39;00m \u001b[38;5;28menumerate\u001b[39m(ten_images):\n\u001b[1;32m----> 9\u001b[0m     img_url \u001b[38;5;241m=\u001b[39m \u001b[43mimage_info\u001b[49m\u001b[43m[\u001b[49m\u001b[38;5;124;43m'\u001b[39;49m\u001b[38;5;124;43mcoco_url\u001b[39;49m\u001b[38;5;124;43m'\u001b[39;49m\u001b[43m]\u001b[49m\n\u001b[0;32m     11\u001b[0m     I \u001b[38;5;241m=\u001b[39m io\u001b[38;5;241m.\u001b[39mimread(img_url)\n\u001b[0;32m     12\u001b[0m     filename \u001b[38;5;241m=\u001b[39m \u001b[38;5;124mf\u001b[39m\u001b[38;5;124m\"\u001b[39m\u001b[38;5;124mimage_\u001b[39m\u001b[38;5;132;01m{\u001b[39;00mi\u001b[38;5;132;01m}\u001b[39;00m\u001b[38;5;124m.jpg\u001b[39m\u001b[38;5;124m\"\u001b[39m\n",
      "\u001b[1;31mKeyError\u001b[0m: 'coco_url'"
     ]
    }
   ],
   "source": [
    "true_keypoints_list = []\n",
    "\n",
    "output_folder= \"./extracted_images_from_coco\"\n",
    "\n",
    "if not os.path.exists(output_folder):\n",
    "    os.makedirs(output_folder)\n",
    "\n",
    "for i, image_info in enumerate(ten_images):\n",
    "    img_url = image_info['coco_url']\n",
    "\n",
    "    I = io.imread(img_url)\n",
    "    filename = f\"image_{i}.jpg\"\n",
    "    output_path = os.path.join(output_folder, filename)\n",
    "    io.imsave(output_path, I)"
   ]
  },
  {
   "cell_type": "code",
   "execution_count": null,
   "id": "f7359c24-a01c-4adf-b03b-52b76d3e4034",
   "metadata": {},
   "outputs": [],
   "source": []
  }
 ],
 "metadata": {
  "kernelspec": {
   "display_name": "Python 3 (ipykernel)",
   "language": "python",
   "name": "python3"
  },
  "language_info": {
   "codemirror_mode": {
    "name": "ipython",
    "version": 3
   },
   "file_extension": ".py",
   "mimetype": "text/x-python",
   "name": "python",
   "nbconvert_exporter": "python",
   "pygments_lexer": "ipython3",
   "version": "3.11.0"
  }
 },
 "nbformat": 4,
 "nbformat_minor": 5
}
