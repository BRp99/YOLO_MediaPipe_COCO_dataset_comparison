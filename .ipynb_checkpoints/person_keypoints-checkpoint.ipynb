{
 "cells": [
  {
   "cell_type": "markdown",
   "id": "301dcb77-fc1a-4d3c-b41d-0dd9f349deed",
   "metadata": {},
   "source": [
    "# Imports"
   ]
  },
  {
   "cell_type": "code",
   "execution_count": 2,
   "id": "67d2fe06-de6a-4cde-a36c-fb41449ab025",
   "metadata": {},
   "outputs": [],
   "source": [
    "import numpy as np\n",
    "import matplotlib.pyplot as plt\n",
    "from pycocotools.coco import COCO\n",
    "import skimage.io as io"
   ]
  },
  {
   "cell_type": "markdown",
   "id": "bb594092-0109-47d5-be99-443a6851bb66",
   "metadata": {},
   "source": [
    "# Load annotations from COCO dataset"
   ]
  },
  {
   "cell_type": "code",
   "execution_count": 44,
   "id": "f68f66f5-5aa7-4c48-a2c3-9f1628a1ce4c",
   "metadata": {},
   "outputs": [
    {
     "name": "stdout",
     "output_type": "stream",
     "text": [
      "loading annotations into memory...\n",
      "Done (t=0.63s)\n",
      "creating index...\n",
      "index created!\n"
     ]
    }
   ],
   "source": [
    "dataDir = './coco/'\n",
    "dataType = 'val2017'\n",
    "annFile = '{}/annotations/instances_{}.json'.format(dataDir, dataType)\n",
    "coco = COCO(annFile)"
   ]
  },
  {
   "cell_type": "markdown",
   "id": "8f823cd6-cc9e-4a88-be73-ab2f216470f9",
   "metadata": {},
   "source": [
    "# Get'person' category ID and get image ID with 'person' category"
   ]
  },
  {
   "cell_type": "code",
   "execution_count": 48,
   "id": "f0b7f91b-a413-4316-b480-a9a7d550bca5",
   "metadata": {},
   "outputs": [
    {
     "name": "stdout",
     "output_type": "stream",
     "text": [
      "[532481, 458755, 385029, 311303, 393226, 532493, 8211, 327701, 188439, 434204]\n"
     ]
    }
   ],
   "source": [
    "catIds = coco.getCatIds(catNms=['person'])\n",
    "imgIds = coco.getImgIds(catIds=catIds)\n",
    "imgIds = imgIds[:10]\n",
    "print(imgIds)"
   ]
  },
  {
   "cell_type": "code",
   "execution_count": 49,
   "id": "2fa99639-782e-47fa-aefe-213f6f127b03",
   "metadata": {},
   "outputs": [
    {
     "ename": "SyntaxError",
     "evalue": "incomplete input (1553419299.py, line 6)",
     "output_type": "error",
     "traceback": [
      "\u001b[1;36m  Cell \u001b[1;32mIn[49], line 6\u001b[1;36m\u001b[0m\n\u001b[1;33m    if len(selected_imgIds) >= 10:\u001b[0m\n\u001b[1;37m                                  ^\u001b[0m\n\u001b[1;31mSyntaxError\u001b[0m\u001b[1;31m:\u001b[0m incomplete input\n"
     ]
    }
   ],
   "source": [
    "selected_imgIds = []\n",
    "for imgId in imgIds:\n",
    "    annIds = coco.getAnnIds(imgIds=imgId, catIds=catIds, iscrowd=None)\n",
    "    if annIds:  # Verificar se a imagem contém pelo menos uma anotação da categoria 'person'\n",
    "        selected_imgIds.append(imgId)\n",
    "    if len(selected_imgIds) >= 10:\n",
    "        break\n"
   ]
  },
  {
   "cell_type": "markdown",
   "id": "86cc3a24-d363-4486-a2a3-44fd0eafed09",
   "metadata": {},
   "source": [
    "# Load and show the first 10 images"
   ]
  },
  {
   "cell_type": "code",
   "execution_count": 47,
   "id": "41fb95bb-f005-4500-85bd-d9cea35a7cf5",
   "metadata": {},
   "outputs": [],
   "source": []
  },
  {
   "cell_type": "code",
   "execution_count": null,
   "id": "adc724c9-a791-4580-bca1-34f89101643c",
   "metadata": {},
   "outputs": [],
   "source": []
  }
 ],
 "metadata": {
  "kernelspec": {
   "display_name": "Python 3 (ipykernel)",
   "language": "python",
   "name": "python3"
  },
  "language_info": {
   "codemirror_mode": {
    "name": "ipython",
    "version": 3
   },
   "file_extension": ".py",
   "mimetype": "text/x-python",
   "name": "python",
   "nbconvert_exporter": "python",
   "pygments_lexer": "ipython3",
   "version": "3.11.0"
  }
 },
 "nbformat": 4,
 "nbformat_minor": 5
}
