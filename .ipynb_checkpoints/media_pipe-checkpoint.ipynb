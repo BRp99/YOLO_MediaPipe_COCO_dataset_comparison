{
 "cells": [
  {
   "cell_type": "markdown",
   "id": "7a61fcbc-5342-42a2-9f40-c005acd152fd",
   "metadata": {},
   "source": [
    "# Imports"
   ]
  },
  {
   "cell_type": "code",
   "execution_count": 2,
   "id": "de47beee-0abb-4c6d-82ca-02913e16a36a",
   "metadata": {},
   "outputs": [],
   "source": [
    "import scipy.io\n",
    "import os\n",
    "import mediapipe as mp\n",
    "import cv2\n",
    "import numpy as np\n",
    "from mediapipe import solutions\n",
    "from mediapipe.framework.formats import landmark_pb2\n",
    "from mediapipe.tasks import python\n",
    "from mediapipe.tasks.python import vision\n",
    "import shutil"
   ]
  },
  {
   "cell_type": "code",
   "execution_count": 8,
   "id": "b601f48a-de9c-475b-9098-f7545cf9a460",
   "metadata": {},
   "outputs": [
    {
     "ename": "FileNotFoundError",
     "evalue": "[WinError 3] O sistema não conseguiu localizar o caminho especificado: './coco/ima'",
     "output_type": "error",
     "traceback": [
      "\u001b[1;31m---------------------------------------------------------------------------\u001b[0m",
      "\u001b[1;31mFileNotFoundError\u001b[0m                         Traceback (most recent call last)",
      "Cell \u001b[1;32mIn[8], line 41\u001b[0m\n\u001b[0;32m     37\u001b[0m     pose\u001b[38;5;241m.\u001b[39mclose()\n\u001b[0;32m     39\u001b[0m count \u001b[38;5;241m=\u001b[39m \u001b[38;5;241m0\u001b[39m\n\u001b[1;32m---> 41\u001b[0m \u001b[38;5;28;01mfor\u001b[39;00m file \u001b[38;5;129;01min\u001b[39;00m \u001b[43mos\u001b[49m\u001b[38;5;241;43m.\u001b[39;49m\u001b[43mlistdir\u001b[49m\u001b[43m(\u001b[49m\u001b[43mCOCO_IMAGES_DIR\u001b[49m\u001b[43m)\u001b[49m:\n\u001b[0;32m     42\u001b[0m     \u001b[38;5;28;01mif\u001b[39;00m file\u001b[38;5;241m.\u001b[39mendswith(\u001b[38;5;124m'\u001b[39m\u001b[38;5;124m.jpg\u001b[39m\u001b[38;5;124m'\u001b[39m):\n\u001b[0;32m     43\u001b[0m         image_file \u001b[38;5;241m=\u001b[39m os\u001b[38;5;241m.\u001b[39mpath\u001b[38;5;241m.\u001b[39mjoin(COCO_IMAGES_DIR, file)\n",
      "\u001b[1;31mFileNotFoundError\u001b[0m: [WinError 3] O sistema não conseguiu localizar o caminho especificado: './coco/ima'"
     ]
    }
   ],
   "source": [
    "# LOAD TEST IMAGES\n",
    "\n",
    "N = 10\n",
    "#MPII_IMAGES_DIR = \"./mpii/images\"\n",
    "COCO_IMAGES_DIR = \"./coco/images/train2017\"\n",
    "#IMAGE_FILES = [os.path.join(MPII_IMAGES_DIR, file) for file in os.listdir(MPII_IMAGES_DIR) if file.endswith(('.jpg'))][:N]\n",
    "#print(IMAGE_FILES)\n",
    "MEDIAPIPE_IMAGES_DIR = \"./MEDIAPIPE_images\"\n",
    "\n",
    "if not os.path.exists(MEDIAPIPE_IMAGES_DIR):\n",
    "    os.makedirs(MEDIAPIPE_IMAGES_DIR)\n",
    "\n",
    "def detect_pose(image_path):\n",
    "    mp_pose = mp.solutions.pose\n",
    "    pose = mp_pose.Pose(static_image_mode=True, min_detection_confidence=0.5)\n",
    "    \n",
    "    image = cv2.imread(image_path)\n",
    "    image_rgb = cv2.cvtColor(image, cv2.COLOR_BGR2RGB)\n",
    "    \n",
    "    results = pose.process(image_rgb)\n",
    "    \n",
    "    # draw landmarks in image pose\n",
    "    if results.pose_landmarks:\n",
    "        mp_drawing = mp.solutions.drawing_utils\n",
    "        annotated_image = image.copy()\n",
    "        mp_drawing.draw_landmarks(annotated_image, results.pose_landmarks, mp_pose.POSE_CONNECTIONS)\n",
    "\n",
    "        output_dir = os.path.join(MEDIAPIPE_IMAGES_DIR, 'output')\n",
    "        if not os.path.exists(output_dir):\n",
    "            os.makedirs(output_dir)\n",
    "        \n",
    "        # save image with landmarks inside dir'output'\n",
    "        output_path = os.path.join(output_dir, f'annotated_{os.path.basename(image_path)}')\n",
    "        cv2.imwrite(output_path, annotated_image)\n",
    "    else:\n",
    "        shutil.copy(image_path, MEDIAPIPE_IMAGES_DIR)\n",
    "    pose.close()\n",
    "\n",
    "count = 0\n",
    "\n",
    "for file in os.listdir(COCO_IMAGES_DIR):\n",
    "    if file.endswith('.jpg'):\n",
    "        image_file = os.path.join(COCO_IMAGES_DIR, file)\n",
    "        if count <= N:\n",
    "            shutil.copy(image_file, MEDIAPIPE_IMAGES_DIR)\n",
    "            detect_pose(image_file)\n",
    "            count += 1\n",
    "        else:\n",
    "            break"
   ]
  },
  {
   "cell_type": "code",
   "execution_count": null,
   "id": "1254ab54-cb10-40fe-a3df-a381f926e663",
   "metadata": {},
   "outputs": [],
   "source": []
  }
 ],
 "metadata": {
  "kernelspec": {
   "display_name": "Python 3 (ipykernel)",
   "language": "python",
   "name": "python3"
  },
  "language_info": {
   "codemirror_mode": {
    "name": "ipython",
    "version": 3
   },
   "file_extension": ".py",
   "mimetype": "text/x-python",
   "name": "python",
   "nbconvert_exporter": "python",
   "pygments_lexer": "ipython3",
   "version": "3.11.0"
  }
 },
 "nbformat": 4,
 "nbformat_minor": 5
}
