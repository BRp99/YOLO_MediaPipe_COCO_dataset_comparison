{
 "cells": [
  {
   "cell_type": "markdown",
   "id": "586dba8f-ebb4-44ac-bdcf-bd04e86337b3",
   "metadata": {},
   "source": [
    "# Imports YOLO"
   ]
  },
  {
   "cell_type": "code",
   "execution_count": 1,
   "id": "cba179bf-eff9-482b-bf06-ec2292d7bb24",
   "metadata": {},
   "outputs": [],
   "source": [
    "from ultralytics import YOLO\n",
    "import os\n",
    "import time"
   ]
  },
  {
   "cell_type": "markdown",
   "id": "a1a88838-567a-4c2e-a076-bf34ec90f00e",
   "metadata": {},
   "source": [
    "# Model YOLO v8"
   ]
  },
  {
   "cell_type": "code",
   "execution_count": 2,
   "id": "1acfb284-4e38-493f-9c95-b1c975aaf052",
   "metadata": {},
   "outputs": [],
   "source": [
    "model = YOLO(\"yolov8n-pose.pt\") "
   ]
  },
  {
   "cell_type": "code",
   "execution_count": 3,
   "id": "b0d14b7f-090b-4eff-9687-9fafd224ba8a",
   "metadata": {},
   "outputs": [],
   "source": [
    "output_folder= \"./extracted_images_from_coco\""
   ]
  },
  {
   "cell_type": "code",
   "execution_count": 8,
   "id": "72710aa4-195f-4a86-8458-ca37a6631fb6",
   "metadata": {},
   "outputs": [
    {
     "name": "stdout",
     "output_type": "stream",
     "text": [
      "\n",
      "image 1/1 C:\\Users\\bp111\\OneDrive\\Documentos\\Code\\YOLO_MediaPipe_COCO_dataset_comparison\\extracted_images_from_coco\\image_0.jpg: 448x640 1 person, 245.7ms\n",
      "Speed: 3.5ms preprocess, 245.7ms inference, 1.6ms postprocess per image at shape (1, 3, 448, 640)\n",
      "\n",
      "image 1/1 C:\\Users\\bp111\\OneDrive\\Documentos\\Code\\YOLO_MediaPipe_COCO_dataset_comparison\\extracted_images_from_coco\\image_1.jpg: 416x640 1 person, 137.3ms\n",
      "Speed: 2.4ms preprocess, 137.3ms inference, 0.0ms postprocess per image at shape (1, 3, 416, 640)\n",
      "\n",
      "image 1/1 C:\\Users\\bp111\\OneDrive\\Documentos\\Code\\YOLO_MediaPipe_COCO_dataset_comparison\\extracted_images_from_coco\\image_2.jpg: 640x448 1 person, 147.1ms\n",
      "Speed: 1.9ms preprocess, 147.1ms inference, 0.0ms postprocess per image at shape (1, 3, 640, 448)\n",
      "\n",
      "image 1/1 C:\\Users\\bp111\\OneDrive\\Documentos\\Code\\YOLO_MediaPipe_COCO_dataset_comparison\\extracted_images_from_coco\\image_3.jpg: 448x640 1 person, 145.5ms\n",
      "Speed: 3.5ms preprocess, 145.5ms inference, 15.6ms postprocess per image at shape (1, 3, 448, 640)\n",
      "\n",
      "image 1/1 C:\\Users\\bp111\\OneDrive\\Documentos\\Code\\YOLO_MediaPipe_COCO_dataset_comparison\\extracted_images_from_coco\\image_4.jpg: 448x640 1 person, 150.3ms\n",
      "Speed: 0.0ms preprocess, 150.3ms inference, 0.0ms postprocess per image at shape (1, 3, 448, 640)\n",
      "\n",
      "image 1/1 C:\\Users\\bp111\\OneDrive\\Documentos\\Code\\YOLO_MediaPipe_COCO_dataset_comparison\\extracted_images_from_coco\\image_5.jpg: 448x640 1 person, 186.5ms\n",
      "Speed: 0.0ms preprocess, 186.5ms inference, 1.0ms postprocess per image at shape (1, 3, 448, 640)\n",
      "\n",
      "image 1/1 C:\\Users\\bp111\\OneDrive\\Documentos\\Code\\YOLO_MediaPipe_COCO_dataset_comparison\\extracted_images_from_coco\\image_6.jpg: 640x448 1 person, 171.0ms\n",
      "Speed: 3.0ms preprocess, 171.0ms inference, 0.0ms postprocess per image at shape (1, 3, 640, 448)\n",
      "\n",
      "image 1/1 C:\\Users\\bp111\\OneDrive\\Documentos\\Code\\YOLO_MediaPipe_COCO_dataset_comparison\\extracted_images_from_coco\\image_7.jpg: 448x640 1 person, 164.2ms\n",
      "Speed: 0.0ms preprocess, 164.2ms inference, 0.0ms postprocess per image at shape (1, 3, 448, 640)\n",
      "\n",
      "image 1/1 C:\\Users\\bp111\\OneDrive\\Documentos\\Code\\YOLO_MediaPipe_COCO_dataset_comparison\\extracted_images_from_coco\\image_8.jpg: 640x448 1 person, 162.4ms\n",
      "Speed: 1.2ms preprocess, 162.4ms inference, 0.0ms postprocess per image at shape (1, 3, 640, 448)\n",
      "\n",
      "image 1/1 C:\\Users\\bp111\\OneDrive\\Documentos\\Code\\YOLO_MediaPipe_COCO_dataset_comparison\\extracted_images_from_coco\\image_9.jpg: 384x640 1 person, 147.2ms\n",
      "Speed: 0.0ms preprocess, 147.2ms inference, 0.0ms postprocess per image at shape (1, 3, 384, 640)\n",
      "number of total images processed by YOLO model: 10\n",
      "Total processing time: 1.8218910694122314 seconds\n",
      "Average of processing time: 0.18218910694122314 seconds\n",
      "Processing speed: 5.488802359202598 image/s\n"
     ]
    }
   ],
   "source": [
    "count = 0\n",
    "results_list = []\n",
    "N = 10\n",
    "total_processing_time_yolo = 0\n",
    "total_images_yolo = 0\n",
    "processing_times_yolo = []\n",
    "\n",
    "files = filter(lambda file:file.endswith('.jpg'), os.listdir(output_folder))\n",
    "for file in files:\n",
    "    image_file = os.path.join(output_folder, file)\n",
    "\n",
    "\n",
    "# CALCULATION FOR INFERENCE TIME\n",
    "    start_time_yolo = time.time()\n",
    "    results_yolo = model(source=image_file, show=False, conf=0.5, save=False)\n",
    "    end_time_yolo = time.time()\n",
    "    \n",
    "    processing_time_yolo = end_time_yolo - start_time_yolo\n",
    "    total_processing_time_yolo += processing_time_yolo\n",
    "    total_images_yolo += 1\n",
    "    processing_times_yolo.append(processing_time_yolo)\n",
    "    \n",
    "    results_list.append(results_yolo)\n",
    "    count += 1\n",
    "    if count >= N:\n",
    "        break\n",
    "\n",
    "\n",
    " # GET PREDICTED COORDENATES\n",
    "for i,result in enumerate(results_list):\n",
    "    for r in result:\n",
    "        #print(len(result))\n",
    "        image_name = r.path.split('\\\\')[-1]\n",
    "        #print(f\"image {i+1} ({image_name})\")\n",
    "        xyn = r.keypoints.xyn\n",
    "        for j, pose in enumerate(xyn):\n",
    "            #print(f\"pose {j+1}\")\n",
    "            for k, landmark in enumerate(pose):\n",
    "                x, y = landmark\n",
    "                #print(f\"keypoints {k+1}:\\t ({x},\\t {y})\")\n",
    "\n",
    "# CALCULATE AVERAGE FOR INFERENCE TIME\n",
    "average_processing_time_yolo = total_processing_time_yolo / total_images_yolo if total_images_yolo > 0 else 0\n",
    "\n",
    "# CALCULATE PROCESSING SPEED\n",
    "processing_speed_yolo = total_images_yolo / total_processing_time_yolo if total_processing_time_yolo > 0 else 0\n",
    "\n",
    "\n",
    "#print(f\"number of total images processed by YOLO model: {total_images_yolo}\")\n",
    "#print(f\"Total processing time: {total_processing_time_yolo} seconds\")\n",
    "#print(f\"Average of processing time: {average_processing_time_yolo} seconds\")\n",
    "#print(f\"Processing speed: {processing_speed_yolo} image/s\")\n",
    "\n"
   ]
  },
  {
   "cell_type": "code",
   "execution_count": null,
   "id": "fdbf9f88-a6ad-462d-8873-746d0f9f94ae",
   "metadata": {},
   "outputs": [],
   "source": []
  }
 ],
 "metadata": {
  "kernelspec": {
   "display_name": "Python 3 (ipykernel)",
   "language": "python",
   "name": "python3"
  },
  "language_info": {
   "codemirror_mode": {
    "name": "ipython",
    "version": 3
   },
   "file_extension": ".py",
   "mimetype": "text/x-python",
   "name": "python",
   "nbconvert_exporter": "python",
   "pygments_lexer": "ipython3",
   "version": "3.11.0"
  }
 },
 "nbformat": 4,
 "nbformat_minor": 5
}
