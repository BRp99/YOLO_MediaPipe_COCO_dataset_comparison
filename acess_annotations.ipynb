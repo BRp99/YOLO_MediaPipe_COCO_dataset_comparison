{
 "cells": [
  {
   "cell_type": "markdown",
   "id": "a525c7c4-18db-4815-9d9a-7621c938a68e",
   "metadata": {},
   "source": [
    "# Imports"
   ]
  },
  {
   "cell_type": "code",
   "execution_count": 3,
   "id": "040771fc-fa57-45c8-a0ca-55ea79a48fc3",
   "metadata": {},
   "outputs": [],
   "source": [
    "%matplotlib inline\n",
    "from pycocotools.coco import COCO\n",
    "import numpy as np\n",
    "import skimage.io as io\n",
    "import matplotlib.pyplot as plt\n",
    "import pylab\n",
    "pylab.rcParams['figure.figsize'] = (8.0, 10.0)"
   ]
  },
  {
   "cell_type": "markdown",
   "id": "b44c8e07-c228-4806-9b2e-79b1b1460c4f",
   "metadata": {},
   "source": [
    "# Path to a JSON file of instance annotations for the 2017 COCO dataset validation set."
   ]
  },
  {
   "cell_type": "code",
   "execution_count": 7,
   "id": "c7989af6-5fd2-4eb9-b49b-f1b9e9fcf977",
   "metadata": {},
   "outputs": [],
   "source": [
    "dataDir='./coco/'\n",
    "dataType='val2017'\n",
    "annFile='{}/annotations/instances_{}.json'.format(dataDir,dataType)"
   ]
  },
  {
   "cell_type": "markdown",
   "id": "15be6ee3-0580-4699-acb9-a6e925f3c87d",
   "metadata": {},
   "source": [
    "# Initialize COCO API for manipulate instance annotations"
   ]
  },
  {
   "cell_type": "code",
   "execution_count": 8,
   "id": "a5b89a27-81b1-4037-892c-763625c05a89",
   "metadata": {},
   "outputs": [
    {
     "name": "stdout",
     "output_type": "stream",
     "text": [
      "loading annotations into memory...\n",
      "Done (t=0.56s)\n",
      "creating index...\n",
      "index created!\n",
      "<pycocotools.coco.COCO object at 0x000001A355D33390>\n"
     ]
    }
   ],
   "source": [
    "coco = COCO(annFile)\n",
    "print(coco)"
   ]
  },
  {
   "cell_type": "markdown",
   "id": "61a8293a-02ca-4f17-8750-74aa942fcebf",
   "metadata": {},
   "source": [
    "# Display COCO categories and supercategories"
   ]
  },
  {
   "cell_type": "code",
   "execution_count": 9,
   "id": "76954476-7e00-4f40-bea0-f0c2199eb5fb",
   "metadata": {},
   "outputs": [
    {
     "name": "stdout",
     "output_type": "stream",
     "text": [
      "COCO categories: \n",
      "person bicycle car motorcycle airplane bus train truck boat traffic light fire hydrant stop sign parking meter bench bird cat dog horse sheep cow elephant bear zebra giraffe backpack umbrella handbag tie suitcase frisbee skis snowboard sports ball kite baseball bat baseball glove skateboard surfboard tennis racket bottle wine glass cup fork knife spoon bowl banana apple sandwich orange broccoli carrot hot dog pizza donut cake chair couch potted plant bed dining table toilet tv laptop mouse remote keyboard cell phone microwave oven toaster sink refrigerator book clock vase scissors teddy bear hair drier toothbrush\n",
      "\n",
      "COCO supercategories: \n",
      "animal outdoor person indoor accessory food kitchen furniture sports appliance electronic vehicle\n"
     ]
    }
   ],
   "source": [
    "cats = coco.loadCats(coco.getCatIds())\n",
    "nms=[cat['name'] for cat in cats]\n",
    "print('COCO categories: \\n{}\\n'.format(' '.join(nms)))\n",
    "\n",
    "nms = set([cat['supercategory'] for cat in cats])\n",
    "print('COCO supercategories: \\n{}'.format(' '.join(nms)))"
   ]
  },
  {
   "cell_type": "code",
   "execution_count": 13,
   "id": "cc36242e-a6d3-4fe1-a9e7-0ea94e1c3609",
   "metadata": {},
   "outputs": [
    {
     "name": "stdout",
     "output_type": "stream",
     "text": [
      "80\n",
      "12\n"
     ]
    }
   ],
   "source": [
    "print(len(cats))\n",
    "print(len(nms))"
   ]
  },
  {
   "cell_type": "markdown",
   "id": "74605b8c-228b-4212-b6ba-0b183e41ba8b",
   "metadata": {},
   "source": [
    "# Get all images containing given categories, select one at random"
   ]
  },
  {
   "cell_type": "code",
   "execution_count": 23,
   "id": "bad32152-233f-41b1-ba24-8180f73387fd",
   "metadata": {},
   "outputs": [],
   "source": [
    "catIds = coco.getCatIds(catNms=['person','dog','skateboard']);\n",
    "imgIds = coco.getImgIds(catIds=catIds );\n",
    "imgIds = coco.getImgIds(imgIds = [324158])\n",
    "img = coco.loadImgs(imgIds[np.random.randint(0,len(imgIds))])[0]"
   ]
  },
  {
   "cell_type": "code",
   "execution_count": 21,
   "id": "0fafb849-0df2-40d8-b87c-a490f6cfca09",
   "metadata": {},
   "outputs": [
    {
     "name": "stdout",
     "output_type": "stream",
     "text": [
      "[1, 18, 41]\n",
      "[324158]\n",
      "{'license': 1, 'file_name': '000000324158.jpg', 'coco_url': 'http://images.cocodataset.org/val2017/000000324158.jpg', 'height': 334, 'width': 500, 'date_captured': '2013-11-19 23:54:06', 'flickr_url': 'http://farm1.staticflickr.com/169/417836491_5bf8762150_z.jpg', 'id': 324158}\n"
     ]
    }
   ],
   "source": [
    "print(catIds)\n",
    "print(imgIds)\n",
    "print(img)"
   ]
  },
  {
   "cell_type": "markdown",
   "id": "9ebb70c1-46f5-427a-9f6d-e389e5b3c11a",
   "metadata": {},
   "source": [
    "# Load and display image"
   ]
  },
  {
   "cell_type": "code",
   "execution_count": null,
   "id": "0378009f-a855-4679-b763-c4be481d020b",
   "metadata": {},
   "outputs": [],
   "source": [
    "I = io.imread(img['coco_url'])\n",
    "print(I)\n",
    "plt.axis('off')\n",
    "plt.imshow(I)\n",
    "plt.show()"
   ]
  }
 ],
 "metadata": {
  "kernelspec": {
   "display_name": "Python 3 (ipykernel)",
   "language": "python",
   "name": "python3"
  },
  "language_info": {
   "codemirror_mode": {
    "name": "ipython",
    "version": 3
   },
   "file_extension": ".py",
   "mimetype": "text/x-python",
   "name": "python",
   "nbconvert_exporter": "python",
   "pygments_lexer": "ipython3",
   "version": "3.11.0"
  }
 },
 "nbformat": 4,
 "nbformat_minor": 5
}
