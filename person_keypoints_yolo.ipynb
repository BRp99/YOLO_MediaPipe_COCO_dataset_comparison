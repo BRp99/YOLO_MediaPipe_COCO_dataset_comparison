{
 "cells": [
  {
   "cell_type": "markdown",
   "id": "586dba8f-ebb4-44ac-bdcf-bd04e86337b3",
   "metadata": {},
   "source": [
    "# Imports YOLO"
   ]
  },
  {
   "cell_type": "code",
   "execution_count": 1,
   "id": "cba179bf-eff9-482b-bf06-ec2292d7bb24",
   "metadata": {},
   "outputs": [],
   "source": [
    "from ultralytics import YOLO\n",
    "import os"
   ]
  },
  {
   "cell_type": "markdown",
   "id": "a1a88838-567a-4c2e-a076-bf34ec90f00e",
   "metadata": {},
   "source": [
    "# Model YOLO v8"
   ]
  },
  {
   "cell_type": "code",
   "execution_count": 2,
   "id": "1acfb284-4e38-493f-9c95-b1c975aaf052",
   "metadata": {},
   "outputs": [],
   "source": [
    "model = YOLO(\"yolov8n-pose.pt\") "
   ]
  },
  {
   "cell_type": "code",
   "execution_count": 3,
   "id": "b0d14b7f-090b-4eff-9687-9fafd224ba8a",
   "metadata": {},
   "outputs": [],
   "source": [
    "output_folder= \"./extracted_images_from_coco\""
   ]
  },
  {
   "cell_type": "code",
   "execution_count": 8,
   "id": "72710aa4-195f-4a86-8458-ca37a6631fb6",
   "metadata": {},
   "outputs": [
    {
     "name": "stdout",
     "output_type": "stream",
     "text": [
      "\n",
      "image 1/1 C:\\Users\\bp111\\OneDrive\\Documentos\\Code\\YOLO_MediaPipe_COCO_dataset_comparison\\extracted_images_from_coco\\image_0.jpg: 448x640 1 person, 176.1ms\n",
      "Speed: 3.7ms preprocess, 176.1ms inference, 0.0ms postprocess per image at shape (1, 3, 448, 640)\n",
      "Results saved to \u001b[1mruns\\pose\\predict2\u001b[0m\n",
      "\n",
      "image 1/1 C:\\Users\\bp111\\OneDrive\\Documentos\\Code\\YOLO_MediaPipe_COCO_dataset_comparison\\extracted_images_from_coco\\image_1.jpg: 416x640 1 person, 146.7ms\n",
      "Speed: 0.0ms preprocess, 146.7ms inference, 0.0ms postprocess per image at shape (1, 3, 416, 640)\n",
      "Results saved to \u001b[1mruns\\pose\\predict2\u001b[0m\n",
      "\n",
      "image 1/1 C:\\Users\\bp111\\OneDrive\\Documentos\\Code\\YOLO_MediaPipe_COCO_dataset_comparison\\extracted_images_from_coco\\image_2.jpg: 640x448 1 person, 160.7ms\n",
      "Speed: 0.0ms preprocess, 160.7ms inference, 0.0ms postprocess per image at shape (1, 3, 640, 448)\n",
      "Results saved to \u001b[1mruns\\pose\\predict2\u001b[0m\n",
      "\n",
      "image 1/1 C:\\Users\\bp111\\OneDrive\\Documentos\\Code\\YOLO_MediaPipe_COCO_dataset_comparison\\extracted_images_from_coco\\image_3.jpg: 448x640 1 person, 207.1ms\n",
      "Speed: 0.0ms preprocess, 207.1ms inference, 1.0ms postprocess per image at shape (1, 3, 448, 640)\n",
      "Results saved to \u001b[1mruns\\pose\\predict2\u001b[0m\n",
      "\n",
      "image 1/1 C:\\Users\\bp111\\OneDrive\\Documentos\\Code\\YOLO_MediaPipe_COCO_dataset_comparison\\extracted_images_from_coco\\image_4.jpg: 448x640 1 person, 152.9ms\n",
      "Speed: 2.0ms preprocess, 152.9ms inference, 0.0ms postprocess per image at shape (1, 3, 448, 640)\n",
      "Results saved to \u001b[1mruns\\pose\\predict2\u001b[0m\n",
      "\n",
      "image 1/1 C:\\Users\\bp111\\OneDrive\\Documentos\\Code\\YOLO_MediaPipe_COCO_dataset_comparison\\extracted_images_from_coco\\image_5.jpg: 448x640 1 person, 170.9ms\n",
      "Speed: 3.2ms preprocess, 170.9ms inference, 1.0ms postprocess per image at shape (1, 3, 448, 640)\n",
      "Results saved to \u001b[1mruns\\pose\\predict2\u001b[0m\n",
      "\n",
      "image 1/1 C:\\Users\\bp111\\OneDrive\\Documentos\\Code\\YOLO_MediaPipe_COCO_dataset_comparison\\extracted_images_from_coco\\image_6.jpg: 640x448 1 person, 161.1ms\n",
      "Speed: 2.0ms preprocess, 161.1ms inference, 1.0ms postprocess per image at shape (1, 3, 640, 448)\n",
      "Results saved to \u001b[1mruns\\pose\\predict2\u001b[0m\n",
      "\n",
      "image 1/1 C:\\Users\\bp111\\OneDrive\\Documentos\\Code\\YOLO_MediaPipe_COCO_dataset_comparison\\extracted_images_from_coco\\image_7.jpg: 448x640 1 person, 180.1ms\n",
      "Speed: 0.0ms preprocess, 180.1ms inference, 1.0ms postprocess per image at shape (1, 3, 448, 640)\n",
      "Results saved to \u001b[1mruns\\pose\\predict2\u001b[0m\n",
      "\n",
      "image 1/1 C:\\Users\\bp111\\OneDrive\\Documentos\\Code\\YOLO_MediaPipe_COCO_dataset_comparison\\extracted_images_from_coco\\image_8.jpg: 640x448 5 persons, 176.0ms\n",
      "Speed: 2.0ms preprocess, 176.0ms inference, 1.0ms postprocess per image at shape (1, 3, 640, 448)\n",
      "Results saved to \u001b[1mruns\\pose\\predict2\u001b[0m\n",
      "\n",
      "image 1/1 C:\\Users\\bp111\\OneDrive\\Documentos\\Code\\YOLO_MediaPipe_COCO_dataset_comparison\\extracted_images_from_coco\\image_9.jpg: 384x640 1 person, 155.2ms\n",
      "Speed: 2.0ms preprocess, 155.2ms inference, 2.0ms postprocess per image at shape (1, 3, 384, 640)\n",
      "Results saved to \u001b[1mruns\\pose\\predict2\u001b[0m\n"
     ]
    }
   ],
   "source": [
    "count = 0\n",
    "results_list = []\n",
    "N = 10\n",
    "files = filter(lambda file:file.endswith('.jpg'), os.listdir(output_folder))\n",
    "for file in files:\n",
    "    image_file = os.path.join(output_folder, file)\n",
    "    #print(\"IMAGE FILE\", image_file)\n",
    "    \n",
    "    results_yolo = model(source = image_file, show = False, conf= 0.1, save= True)\n",
    "    results_list.append(results_yolo)\n",
    "    #print(\"RESULTS LIST\", results_list)\n",
    "    count += 1\n",
    "    if count >= N:\n",
    "        break\n",
    "\n",
    "\n",
    " # Acess and print predicted keypoints MODEL YOLO\n",
    "for i,result in enumerate(results_list):\n",
    "    for r in result:\n",
    "        #print(len(result))\n",
    "        image_name = r.path.split('\\\\')[-1]\n",
    "        #print(f\"image {i+1} ({image_name})\")\n",
    "        xyn = r.keypoints.xyn\n",
    "        for j, pose in enumerate(xyn):\n",
    "            #print(f\"pose {j+1}\")\n",
    "            for k, landmark in enumerate(pose):\n",
    "                x, y = landmark\n",
    "                #print(f\"keypoints {k+1}:\\t ({x},\\t {y})\")\n"
   ]
  },
  {
   "cell_type": "code",
   "execution_count": null,
   "id": "fdbf9f88-a6ad-462d-8873-746d0f9f94ae",
   "metadata": {},
   "outputs": [],
   "source": []
  }
 ],
 "metadata": {
  "kernelspec": {
   "display_name": "Python 3 (ipykernel)",
   "language": "python",
   "name": "python3"
  },
  "language_info": {
   "codemirror_mode": {
    "name": "ipython",
    "version": 3
   },
   "file_extension": ".py",
   "mimetype": "text/x-python",
   "name": "python",
   "nbconvert_exporter": "python",
   "pygments_lexer": "ipython3",
   "version": "3.11.0"
  }
 },
 "nbformat": 4,
 "nbformat_minor": 5
}
