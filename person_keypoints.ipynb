{
 "cells": [
  {
   "cell_type": "markdown",
   "id": "301dcb77-fc1a-4d3c-b41d-0dd9f349deed",
   "metadata": {},
   "source": [
    "# Imports"
   ]
  },
  {
   "cell_type": "code",
   "execution_count": 1,
   "id": "67d2fe06-de6a-4cde-a36c-fb41449ab025",
   "metadata": {},
   "outputs": [],
   "source": [
    "import numpy as np\n",
    "import matplotlib.pyplot as plt\n",
    "from pycocotools.coco import COCO\n",
    "import skimage.io as io"
   ]
  },
  {
   "cell_type": "markdown",
   "id": "bb594092-0109-47d5-be99-443a6851bb66",
   "metadata": {},
   "source": [
    "# Load annotations from COCO dataset"
   ]
  },
  {
   "cell_type": "code",
   "execution_count": 2,
   "id": "f68f66f5-5aa7-4c48-a2c3-9f1628a1ce4c",
   "metadata": {},
   "outputs": [
    {
     "name": "stdout",
     "output_type": "stream",
     "text": [
      "loading annotations into memory...\n",
      "Done (t=0.63s)\n",
      "creating index...\n",
      "index created!\n"
     ]
    }
   ],
   "source": [
    "dataDir = './coco/'\n",
    "dataType = 'val2017'\n",
    "annFile = '{}/annotations/instances_{}.json'.format(dataDir, dataType)\n",
    "coco = COCO(annFile)"
   ]
  },
  {
   "cell_type": "markdown",
   "id": "8f823cd6-cc9e-4a88-be73-ab2f216470f9",
   "metadata": {},
   "source": [
    "# Get'person' category ID and get image ID with 'person' category"
   ]
  },
  {
   "cell_type": "code",
   "execution_count": 5,
   "id": "f0b7f91b-a413-4316-b480-a9a7d550bca5",
   "metadata": {},
   "outputs": [
    {
     "ename": "AttributeError",
     "evalue": "'list' object has no attribute 'name'",
     "output_type": "error",
     "traceback": [
      "\u001b[1;31m---------------------------------------------------------------------------\u001b[0m",
      "\u001b[1;31mAttributeError\u001b[0m                            Traceback (most recent call last)",
      "Cell \u001b[1;32mIn[5], line 4\u001b[0m\n\u001b[0;32m      2\u001b[0m imgIds \u001b[38;5;241m=\u001b[39m coco\u001b[38;5;241m.\u001b[39mgetImgIds(catIds\u001b[38;5;241m=\u001b[39mcatIds)\n\u001b[0;32m      3\u001b[0m imgIds \u001b[38;5;241m=\u001b[39m imgIds[:\u001b[38;5;241m10\u001b[39m]\n\u001b[1;32m----> 4\u001b[0m \u001b[38;5;28mprint\u001b[39m(\u001b[43mimgIds\u001b[49m\u001b[38;5;241;43m.\u001b[39;49m\u001b[43mname\u001b[49m)\n",
      "\u001b[1;31mAttributeError\u001b[0m: 'list' object has no attribute 'name'"
     ]
    }
   ],
   "source": [
    "catIds = coco.getCatIds(catNms=['person'])\n",
    "imgIds = coco.getImgIds(catIds=catIds)\n",
    "imgIds = imgIds[:10]\n",
    "print(imgIds)"
   ]
  },
  {
   "cell_type": "code",
   "execution_count": null,
   "id": "4029a619-0745-43a1-a75e-017d379ba327",
   "metadata": {},
   "outputs": [],
   "source": []
  }
 ],
 "metadata": {
  "kernelspec": {
   "display_name": "Python 3 (ipykernel)",
   "language": "python",
   "name": "python3"
  },
  "language_info": {
   "codemirror_mode": {
    "name": "ipython",
    "version": 3
   },
   "file_extension": ".py",
   "mimetype": "text/x-python",
   "name": "python",
   "nbconvert_exporter": "python",
   "pygments_lexer": "ipython3",
   "version": "3.11.0"
  }
 },
 "nbformat": 4,
 "nbformat_minor": 5
}
